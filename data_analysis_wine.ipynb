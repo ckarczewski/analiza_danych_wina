{
 "cells": [
  {
   "cell_type": "code",
   "execution_count": 1,
   "id": "64f27712",
   "metadata": {},
   "outputs": [],
   "source": [
    "# analiza wina"
   ]
  },
  {
   "cell_type": "markdown",
   "id": "84970d3e",
   "metadata": {},
   "source": [
    "Wykonała Anna Sobczak 235148\n",
    "\n",
    "Dane zostły pobrane z UC Irvine Machine Learning Repository!\n",
    "\n",
    "Te dwa zestawy danych dotyczą czerwonych i białych odmian portugalskiego wina „Vinho Verde”. Ze względu na prywatność i kwestie logistyczne, tylko zmienne fizykochemiczne (dane wejściowe) i sensoryczne (wyjściowe)są dostępne (np. brak danych o rodzajach winogron, marce wina, cenie sprzedaży wina itp.).\n",
    "Zestawy danych można postrzegać jako zadania klasyfikacji lub regresji. Klasy są uporządkowane i niezbilansowane.\n",
    "\n",
    "\n",
    "\n",
    "\n",
    "\n",
    "\n"
   ]
  },
  {
   "cell_type": "markdown",
   "id": "5a03e82f",
   "metadata": {},
   "source": [
    "Atrybuty <br>\n",
    "Wejściowe: <br>\n",
    "   1 - fixed acidity <br>\n",
    "   2 - volatile acidity <br>\n",
    "   3 - citric acid <br>\n",
    "   4 - residual sugar <br>\n",
    "   5 - chlorides <br>\n",
    "   6 - free sulfur dioxide <br>\n",
    "   7 - total sulfur dioxide <br>\n",
    "   8 - density <br>\n",
    "   9 - pH <br>\n",
    "   10 - sulphates <br>\n",
    "   11 - alcohol <br>\n",
    "Wyjściowe:  <br>\n",
    "   12 - quality (score between 0 and 10) <br>"
   ]
  },
  {
   "cell_type": "code",
   "execution_count": 2,
   "id": "64e7d071",
   "metadata": {},
   "outputs": [],
   "source": [
    "# Import wymaganych bibliotek do obróbki danych\n",
    "\n",
    "import pandas as pd\n",
    "import numpy as np\n",
    "from pandas_profiling import ProfileReport\n",
    "import matplotlib.pyplot as plt"
   ]
  },
  {
   "cell_type": "code",
   "execution_count": 34,
   "id": "2cc289d2",
   "metadata": {
    "scrolled": true
   },
   "outputs": [],
   "source": [
    "# Import danych\n",
    "data_red = pd.read_csv('winequality-red.csv', delimiter=';')\n",
    "data_white = pd.read_csv('winequality-white.csv', delimiter=';')"
   ]
  },
  {
   "cell_type": "code",
   "execution_count": 38,
   "id": "d04ff77c",
   "metadata": {},
   "outputs": [],
   "source": [
    "# Dodanie typu wina 0 - Czerwone 1 - Biale\n",
    "data_red['type'] = 0 # Czerw0ne\n",
    "data_white['type'] = 1 #B1ale"
   ]
  },
  {
   "cell_type": "code",
   "execution_count": 39,
   "id": "83420ca5",
   "metadata": {},
   "outputs": [
    {
     "data": {
      "text/html": [
       "<div>\n",
       "<style scoped>\n",
       "    .dataframe tbody tr th:only-of-type {\n",
       "        vertical-align: middle;\n",
       "    }\n",
       "\n",
       "    .dataframe tbody tr th {\n",
       "        vertical-align: top;\n",
       "    }\n",
       "\n",
       "    .dataframe thead th {\n",
       "        text-align: right;\n",
       "    }\n",
       "</style>\n",
       "<table border=\"1\" class=\"dataframe\">\n",
       "  <thead>\n",
       "    <tr style=\"text-align: right;\">\n",
       "      <th></th>\n",
       "      <th>fixed acidity</th>\n",
       "      <th>volatile acidity</th>\n",
       "      <th>citric acid</th>\n",
       "      <th>residual sugar</th>\n",
       "      <th>chlorides</th>\n",
       "      <th>free sulfur dioxide</th>\n",
       "      <th>total sulfur dioxide</th>\n",
       "      <th>density</th>\n",
       "      <th>pH</th>\n",
       "      <th>sulphates</th>\n",
       "      <th>alcohol</th>\n",
       "      <th>quality</th>\n",
       "      <th>type</th>\n",
       "    </tr>\n",
       "  </thead>\n",
       "  <tbody>\n",
       "    <tr>\n",
       "      <th>0</th>\n",
       "      <td>7.4</td>\n",
       "      <td>0.70</td>\n",
       "      <td>0.00</td>\n",
       "      <td>1.9</td>\n",
       "      <td>0.076</td>\n",
       "      <td>11.0</td>\n",
       "      <td>34.0</td>\n",
       "      <td>0.9978</td>\n",
       "      <td>3.51</td>\n",
       "      <td>0.56</td>\n",
       "      <td>9.4</td>\n",
       "      <td>5</td>\n",
       "      <td>0</td>\n",
       "    </tr>\n",
       "    <tr>\n",
       "      <th>1</th>\n",
       "      <td>7.8</td>\n",
       "      <td>0.88</td>\n",
       "      <td>0.00</td>\n",
       "      <td>2.6</td>\n",
       "      <td>0.098</td>\n",
       "      <td>25.0</td>\n",
       "      <td>67.0</td>\n",
       "      <td>0.9968</td>\n",
       "      <td>3.20</td>\n",
       "      <td>0.68</td>\n",
       "      <td>9.8</td>\n",
       "      <td>5</td>\n",
       "      <td>0</td>\n",
       "    </tr>\n",
       "    <tr>\n",
       "      <th>2</th>\n",
       "      <td>7.8</td>\n",
       "      <td>0.76</td>\n",
       "      <td>0.04</td>\n",
       "      <td>2.3</td>\n",
       "      <td>0.092</td>\n",
       "      <td>15.0</td>\n",
       "      <td>54.0</td>\n",
       "      <td>0.9970</td>\n",
       "      <td>3.26</td>\n",
       "      <td>0.65</td>\n",
       "      <td>9.8</td>\n",
       "      <td>5</td>\n",
       "      <td>0</td>\n",
       "    </tr>\n",
       "    <tr>\n",
       "      <th>3</th>\n",
       "      <td>11.2</td>\n",
       "      <td>0.28</td>\n",
       "      <td>0.56</td>\n",
       "      <td>1.9</td>\n",
       "      <td>0.075</td>\n",
       "      <td>17.0</td>\n",
       "      <td>60.0</td>\n",
       "      <td>0.9980</td>\n",
       "      <td>3.16</td>\n",
       "      <td>0.58</td>\n",
       "      <td>9.8</td>\n",
       "      <td>6</td>\n",
       "      <td>0</td>\n",
       "    </tr>\n",
       "    <tr>\n",
       "      <th>4</th>\n",
       "      <td>7.4</td>\n",
       "      <td>0.70</td>\n",
       "      <td>0.00</td>\n",
       "      <td>1.9</td>\n",
       "      <td>0.076</td>\n",
       "      <td>11.0</td>\n",
       "      <td>34.0</td>\n",
       "      <td>0.9978</td>\n",
       "      <td>3.51</td>\n",
       "      <td>0.56</td>\n",
       "      <td>9.4</td>\n",
       "      <td>5</td>\n",
       "      <td>0</td>\n",
       "    </tr>\n",
       "  </tbody>\n",
       "</table>\n",
       "</div>"
      ],
      "text/plain": [
       "   fixed acidity  volatile acidity  citric acid  residual sugar  chlorides  \\\n",
       "0            7.4              0.70         0.00             1.9      0.076   \n",
       "1            7.8              0.88         0.00             2.6      0.098   \n",
       "2            7.8              0.76         0.04             2.3      0.092   \n",
       "3           11.2              0.28         0.56             1.9      0.075   \n",
       "4            7.4              0.70         0.00             1.9      0.076   \n",
       "\n",
       "   free sulfur dioxide  total sulfur dioxide  density    pH  sulphates  \\\n",
       "0                 11.0                  34.0   0.9978  3.51       0.56   \n",
       "1                 25.0                  67.0   0.9968  3.20       0.68   \n",
       "2                 15.0                  54.0   0.9970  3.26       0.65   \n",
       "3                 17.0                  60.0   0.9980  3.16       0.58   \n",
       "4                 11.0                  34.0   0.9978  3.51       0.56   \n",
       "\n",
       "   alcohol  quality  type  \n",
       "0      9.4        5     0  \n",
       "1      9.8        5     0  \n",
       "2      9.8        5     0  \n",
       "3      9.8        6     0  \n",
       "4      9.4        5     0  "
      ]
     },
     "execution_count": 39,
     "metadata": {},
     "output_type": "execute_result"
    }
   ],
   "source": [
    "# Sprawdzenie pierwszych 5 rekordów\n",
    "data_red.head()\n"
   ]
  },
  {
   "cell_type": "code",
   "execution_count": 40,
   "id": "a730d7f5",
   "metadata": {},
   "outputs": [
    {
     "data": {
      "text/html": [
       "<div>\n",
       "<style scoped>\n",
       "    .dataframe tbody tr th:only-of-type {\n",
       "        vertical-align: middle;\n",
       "    }\n",
       "\n",
       "    .dataframe tbody tr th {\n",
       "        vertical-align: top;\n",
       "    }\n",
       "\n",
       "    .dataframe thead th {\n",
       "        text-align: right;\n",
       "    }\n",
       "</style>\n",
       "<table border=\"1\" class=\"dataframe\">\n",
       "  <thead>\n",
       "    <tr style=\"text-align: right;\">\n",
       "      <th></th>\n",
       "      <th>fixed acidity</th>\n",
       "      <th>volatile acidity</th>\n",
       "      <th>citric acid</th>\n",
       "      <th>residual sugar</th>\n",
       "      <th>chlorides</th>\n",
       "      <th>free sulfur dioxide</th>\n",
       "      <th>total sulfur dioxide</th>\n",
       "      <th>density</th>\n",
       "      <th>pH</th>\n",
       "      <th>sulphates</th>\n",
       "      <th>alcohol</th>\n",
       "      <th>quality</th>\n",
       "      <th>type</th>\n",
       "    </tr>\n",
       "  </thead>\n",
       "  <tbody>\n",
       "    <tr>\n",
       "      <th>0</th>\n",
       "      <td>7.0</td>\n",
       "      <td>0.27</td>\n",
       "      <td>0.36</td>\n",
       "      <td>20.7</td>\n",
       "      <td>0.045</td>\n",
       "      <td>45.0</td>\n",
       "      <td>170.0</td>\n",
       "      <td>1.0010</td>\n",
       "      <td>3.00</td>\n",
       "      <td>0.45</td>\n",
       "      <td>8.8</td>\n",
       "      <td>6</td>\n",
       "      <td>1</td>\n",
       "    </tr>\n",
       "    <tr>\n",
       "      <th>1</th>\n",
       "      <td>6.3</td>\n",
       "      <td>0.30</td>\n",
       "      <td>0.34</td>\n",
       "      <td>1.6</td>\n",
       "      <td>0.049</td>\n",
       "      <td>14.0</td>\n",
       "      <td>132.0</td>\n",
       "      <td>0.9940</td>\n",
       "      <td>3.30</td>\n",
       "      <td>0.49</td>\n",
       "      <td>9.5</td>\n",
       "      <td>6</td>\n",
       "      <td>1</td>\n",
       "    </tr>\n",
       "    <tr>\n",
       "      <th>2</th>\n",
       "      <td>8.1</td>\n",
       "      <td>0.28</td>\n",
       "      <td>0.40</td>\n",
       "      <td>6.9</td>\n",
       "      <td>0.050</td>\n",
       "      <td>30.0</td>\n",
       "      <td>97.0</td>\n",
       "      <td>0.9951</td>\n",
       "      <td>3.26</td>\n",
       "      <td>0.44</td>\n",
       "      <td>10.1</td>\n",
       "      <td>6</td>\n",
       "      <td>1</td>\n",
       "    </tr>\n",
       "    <tr>\n",
       "      <th>3</th>\n",
       "      <td>7.2</td>\n",
       "      <td>0.23</td>\n",
       "      <td>0.32</td>\n",
       "      <td>8.5</td>\n",
       "      <td>0.058</td>\n",
       "      <td>47.0</td>\n",
       "      <td>186.0</td>\n",
       "      <td>0.9956</td>\n",
       "      <td>3.19</td>\n",
       "      <td>0.40</td>\n",
       "      <td>9.9</td>\n",
       "      <td>6</td>\n",
       "      <td>1</td>\n",
       "    </tr>\n",
       "    <tr>\n",
       "      <th>4</th>\n",
       "      <td>7.2</td>\n",
       "      <td>0.23</td>\n",
       "      <td>0.32</td>\n",
       "      <td>8.5</td>\n",
       "      <td>0.058</td>\n",
       "      <td>47.0</td>\n",
       "      <td>186.0</td>\n",
       "      <td>0.9956</td>\n",
       "      <td>3.19</td>\n",
       "      <td>0.40</td>\n",
       "      <td>9.9</td>\n",
       "      <td>6</td>\n",
       "      <td>1</td>\n",
       "    </tr>\n",
       "  </tbody>\n",
       "</table>\n",
       "</div>"
      ],
      "text/plain": [
       "   fixed acidity  volatile acidity  citric acid  residual sugar  chlorides  \\\n",
       "0            7.0              0.27         0.36            20.7      0.045   \n",
       "1            6.3              0.30         0.34             1.6      0.049   \n",
       "2            8.1              0.28         0.40             6.9      0.050   \n",
       "3            7.2              0.23         0.32             8.5      0.058   \n",
       "4            7.2              0.23         0.32             8.5      0.058   \n",
       "\n",
       "   free sulfur dioxide  total sulfur dioxide  density    pH  sulphates  \\\n",
       "0                 45.0                 170.0   1.0010  3.00       0.45   \n",
       "1                 14.0                 132.0   0.9940  3.30       0.49   \n",
       "2                 30.0                  97.0   0.9951  3.26       0.44   \n",
       "3                 47.0                 186.0   0.9956  3.19       0.40   \n",
       "4                 47.0                 186.0   0.9956  3.19       0.40   \n",
       "\n",
       "   alcohol  quality  type  \n",
       "0      8.8        6     1  \n",
       "1      9.5        6     1  \n",
       "2     10.1        6     1  \n",
       "3      9.9        6     1  \n",
       "4      9.9        6     1  "
      ]
     },
     "execution_count": 40,
     "metadata": {},
     "output_type": "execute_result"
    }
   ],
   "source": [
    "# Sprawdzenie pierwszych 5 rekordów\n",
    "data_white.head()\n"
   ]
  },
  {
   "cell_type": "code",
   "execution_count": 47,
   "id": "3d25b604",
   "metadata": {},
   "outputs": [],
   "source": [
    "data = pd.concat([data_white, data_red])"
   ]
  },
  {
   "cell_type": "code",
   "execution_count": 48,
   "id": "feb6beaa",
   "metadata": {},
   "outputs": [
    {
     "data": {
      "text/html": [
       "<div>\n",
       "<style scoped>\n",
       "    .dataframe tbody tr th:only-of-type {\n",
       "        vertical-align: middle;\n",
       "    }\n",
       "\n",
       "    .dataframe tbody tr th {\n",
       "        vertical-align: top;\n",
       "    }\n",
       "\n",
       "    .dataframe thead th {\n",
       "        text-align: right;\n",
       "    }\n",
       "</style>\n",
       "<table border=\"1\" class=\"dataframe\">\n",
       "  <thead>\n",
       "    <tr style=\"text-align: right;\">\n",
       "      <th></th>\n",
       "      <th>fixed acidity</th>\n",
       "      <th>volatile acidity</th>\n",
       "      <th>citric acid</th>\n",
       "      <th>residual sugar</th>\n",
       "      <th>chlorides</th>\n",
       "      <th>free sulfur dioxide</th>\n",
       "      <th>total sulfur dioxide</th>\n",
       "      <th>density</th>\n",
       "      <th>pH</th>\n",
       "      <th>sulphates</th>\n",
       "      <th>alcohol</th>\n",
       "      <th>quality</th>\n",
       "      <th>type</th>\n",
       "    </tr>\n",
       "  </thead>\n",
       "  <tbody>\n",
       "    <tr>\n",
       "      <th>count</th>\n",
       "      <td>6497.000000</td>\n",
       "      <td>6497.000000</td>\n",
       "      <td>6497.000000</td>\n",
       "      <td>6497.000000</td>\n",
       "      <td>6497.000000</td>\n",
       "      <td>6497.000000</td>\n",
       "      <td>6497.000000</td>\n",
       "      <td>6497.000000</td>\n",
       "      <td>6497.000000</td>\n",
       "      <td>6497.000000</td>\n",
       "      <td>6497.000000</td>\n",
       "      <td>6497.000000</td>\n",
       "      <td>6497.000000</td>\n",
       "    </tr>\n",
       "    <tr>\n",
       "      <th>mean</th>\n",
       "      <td>7.215307</td>\n",
       "      <td>0.339666</td>\n",
       "      <td>0.318633</td>\n",
       "      <td>5.443235</td>\n",
       "      <td>0.056034</td>\n",
       "      <td>30.525319</td>\n",
       "      <td>115.744574</td>\n",
       "      <td>0.994697</td>\n",
       "      <td>3.218501</td>\n",
       "      <td>0.531268</td>\n",
       "      <td>10.491801</td>\n",
       "      <td>5.818378</td>\n",
       "      <td>0.753886</td>\n",
       "    </tr>\n",
       "    <tr>\n",
       "      <th>std</th>\n",
       "      <td>1.296434</td>\n",
       "      <td>0.164636</td>\n",
       "      <td>0.145318</td>\n",
       "      <td>4.757804</td>\n",
       "      <td>0.035034</td>\n",
       "      <td>17.749400</td>\n",
       "      <td>56.521855</td>\n",
       "      <td>0.002999</td>\n",
       "      <td>0.160787</td>\n",
       "      <td>0.148806</td>\n",
       "      <td>1.192712</td>\n",
       "      <td>0.873255</td>\n",
       "      <td>0.430779</td>\n",
       "    </tr>\n",
       "    <tr>\n",
       "      <th>min</th>\n",
       "      <td>3.800000</td>\n",
       "      <td>0.080000</td>\n",
       "      <td>0.000000</td>\n",
       "      <td>0.600000</td>\n",
       "      <td>0.009000</td>\n",
       "      <td>1.000000</td>\n",
       "      <td>6.000000</td>\n",
       "      <td>0.987110</td>\n",
       "      <td>2.720000</td>\n",
       "      <td>0.220000</td>\n",
       "      <td>8.000000</td>\n",
       "      <td>3.000000</td>\n",
       "      <td>0.000000</td>\n",
       "    </tr>\n",
       "    <tr>\n",
       "      <th>25%</th>\n",
       "      <td>6.400000</td>\n",
       "      <td>0.230000</td>\n",
       "      <td>0.250000</td>\n",
       "      <td>1.800000</td>\n",
       "      <td>0.038000</td>\n",
       "      <td>17.000000</td>\n",
       "      <td>77.000000</td>\n",
       "      <td>0.992340</td>\n",
       "      <td>3.110000</td>\n",
       "      <td>0.430000</td>\n",
       "      <td>9.500000</td>\n",
       "      <td>5.000000</td>\n",
       "      <td>1.000000</td>\n",
       "    </tr>\n",
       "    <tr>\n",
       "      <th>50%</th>\n",
       "      <td>7.000000</td>\n",
       "      <td>0.290000</td>\n",
       "      <td>0.310000</td>\n",
       "      <td>3.000000</td>\n",
       "      <td>0.047000</td>\n",
       "      <td>29.000000</td>\n",
       "      <td>118.000000</td>\n",
       "      <td>0.994890</td>\n",
       "      <td>3.210000</td>\n",
       "      <td>0.510000</td>\n",
       "      <td>10.300000</td>\n",
       "      <td>6.000000</td>\n",
       "      <td>1.000000</td>\n",
       "    </tr>\n",
       "    <tr>\n",
       "      <th>75%</th>\n",
       "      <td>7.700000</td>\n",
       "      <td>0.400000</td>\n",
       "      <td>0.390000</td>\n",
       "      <td>8.100000</td>\n",
       "      <td>0.065000</td>\n",
       "      <td>41.000000</td>\n",
       "      <td>156.000000</td>\n",
       "      <td>0.996990</td>\n",
       "      <td>3.320000</td>\n",
       "      <td>0.600000</td>\n",
       "      <td>11.300000</td>\n",
       "      <td>6.000000</td>\n",
       "      <td>1.000000</td>\n",
       "    </tr>\n",
       "    <tr>\n",
       "      <th>max</th>\n",
       "      <td>15.900000</td>\n",
       "      <td>1.580000</td>\n",
       "      <td>1.660000</td>\n",
       "      <td>65.800000</td>\n",
       "      <td>0.611000</td>\n",
       "      <td>289.000000</td>\n",
       "      <td>440.000000</td>\n",
       "      <td>1.038980</td>\n",
       "      <td>4.010000</td>\n",
       "      <td>2.000000</td>\n",
       "      <td>14.900000</td>\n",
       "      <td>9.000000</td>\n",
       "      <td>1.000000</td>\n",
       "    </tr>\n",
       "  </tbody>\n",
       "</table>\n",
       "</div>"
      ],
      "text/plain": [
       "       fixed acidity  volatile acidity  citric acid  residual sugar  \\\n",
       "count    6497.000000       6497.000000  6497.000000     6497.000000   \n",
       "mean        7.215307          0.339666     0.318633        5.443235   \n",
       "std         1.296434          0.164636     0.145318        4.757804   \n",
       "min         3.800000          0.080000     0.000000        0.600000   \n",
       "25%         6.400000          0.230000     0.250000        1.800000   \n",
       "50%         7.000000          0.290000     0.310000        3.000000   \n",
       "75%         7.700000          0.400000     0.390000        8.100000   \n",
       "max        15.900000          1.580000     1.660000       65.800000   \n",
       "\n",
       "         chlorides  free sulfur dioxide  total sulfur dioxide      density  \\\n",
       "count  6497.000000          6497.000000           6497.000000  6497.000000   \n",
       "mean      0.056034            30.525319            115.744574     0.994697   \n",
       "std       0.035034            17.749400             56.521855     0.002999   \n",
       "min       0.009000             1.000000              6.000000     0.987110   \n",
       "25%       0.038000            17.000000             77.000000     0.992340   \n",
       "50%       0.047000            29.000000            118.000000     0.994890   \n",
       "75%       0.065000            41.000000            156.000000     0.996990   \n",
       "max       0.611000           289.000000            440.000000     1.038980   \n",
       "\n",
       "                pH    sulphates      alcohol      quality         type  \n",
       "count  6497.000000  6497.000000  6497.000000  6497.000000  6497.000000  \n",
       "mean      3.218501     0.531268    10.491801     5.818378     0.753886  \n",
       "std       0.160787     0.148806     1.192712     0.873255     0.430779  \n",
       "min       2.720000     0.220000     8.000000     3.000000     0.000000  \n",
       "25%       3.110000     0.430000     9.500000     5.000000     1.000000  \n",
       "50%       3.210000     0.510000    10.300000     6.000000     1.000000  \n",
       "75%       3.320000     0.600000    11.300000     6.000000     1.000000  \n",
       "max       4.010000     2.000000    14.900000     9.000000     1.000000  "
      ]
     },
     "execution_count": 48,
     "metadata": {},
     "output_type": "execute_result"
    }
   ],
   "source": [
    "# Opis danych\n",
    "data.describe()"
   ]
  },
  {
   "cell_type": "code",
   "execution_count": 49,
   "id": "924df43b",
   "metadata": {},
   "outputs": [
    {
     "name": "stdout",
     "output_type": "stream",
     "text": [
      "<class 'pandas.core.frame.DataFrame'>\n",
      "Int64Index: 6497 entries, 0 to 1598\n",
      "Data columns (total 13 columns):\n",
      " #   Column                Non-Null Count  Dtype  \n",
      "---  ------                --------------  -----  \n",
      " 0   fixed acidity         6497 non-null   float64\n",
      " 1   volatile acidity      6497 non-null   float64\n",
      " 2   citric acid           6497 non-null   float64\n",
      " 3   residual sugar        6497 non-null   float64\n",
      " 4   chlorides             6497 non-null   float64\n",
      " 5   free sulfur dioxide   6497 non-null   float64\n",
      " 6   total sulfur dioxide  6497 non-null   float64\n",
      " 7   density               6497 non-null   float64\n",
      " 8   pH                    6497 non-null   float64\n",
      " 9   sulphates             6497 non-null   float64\n",
      " 10  alcohol               6497 non-null   float64\n",
      " 11  quality               6497 non-null   int64  \n",
      " 12  type                  6497 non-null   int64  \n",
      "dtypes: float64(11), int64(2)\n",
      "memory usage: 710.6 KB\n"
     ]
    }
   ],
   "source": [
    "# Informacje o danych\n",
    "data.info()"
   ]
  },
  {
   "cell_type": "code",
   "execution_count": 50,
   "id": "562a9617",
   "metadata": {},
   "outputs": [],
   "source": [
    "# Wykonanie profilu przy pomocy funkcji ProfiileReport z biblioteki pandas_profiling\n",
    "profile = ProfileReport(data, title=\"Pandas Profiling Report\", explorative=True)\n"
   ]
  },
  {
   "cell_type": "code",
   "execution_count": 51,
   "id": "5daa7c12",
   "metadata": {},
   "outputs": [],
   "source": [
    "# Wyświetlenie wykonanego profilu\n",
    "# profile.to_notebook_iframe()\n"
   ]
  },
  {
   "cell_type": "code",
   "execution_count": 96,
   "id": "14c6d4e2",
   "metadata": {},
   "outputs": [
    {
     "data": {
      "image/png": "[encoded data removed]",
      "text/plain": [
       "<Figure size 864x864 with 1 Axes>"
      ]
     },
     "metadata": {
      "needs_background": "light"
     },
     "output_type": "display_data"
    }
   ],
   "source": [
    "# Biblioteka seaborn oparta jest na bibliotece matplotlib i służy do wizualizacji danych\n",
    "import seaborn as sb \n",
    "plt.figure(figsize=(12, 12))\n",
    "# Szukanie korelacji większej niż 0.7 pomiędzy atrybutami\n",
    "sb.heatmap(data.corr() > 0.7, annot=True, cbar=False)\n",
    "plt.show()"
   ]
  },
  {
   "cell_type": "markdown",
   "id": "eccbb136",
   "metadata": {},
   "source": [
    "<b>Wybór cech</b>\n",
    "\n",
    "quality - cecha podlegająca predykcji <br>\n",
    "\n",
    "Cechy użyte do utworzenia klasyfikatora: <br>\n",
    "fixed acidity <br>\n",
    "volatile acidity <br>\n",
    "citric acid <br>\n",
    "residual sugar <br>\n",
    "chlorides <br>\n",
    "free sulfur dioxide <br>\n",
    "density <br>\n",
    "pH <br>\n",
    "sulphates <br>\n",
    "alcohol <br>\n",
    "\n",
    "Z cech została usunięta kolumna 'total sulfur dioxide' w powodu korelacji z cechą 'total sulfur dioxide' i 'type'"
   ]
  },
  {
   "cell_type": "markdown",
   "id": "89f8fe09",
   "metadata": {},
   "source": [
    "<b>Cel i metody:</b><br>\n",
    "Moim celem jest stworzenie klasyfikatora, który za pomocą podanych warrtości będzie mógł sklasyfikować jakość wina z podziałem na wina lepszej i gorzej jakości. \n",
    "Użyję do tego metody kNN (metoda najbliższych sąsiadów)."
   ]
  },
  {
   "cell_type": "code",
   "execution_count": 97,
   "id": "e813dc90",
   "metadata": {},
   "outputs": [],
   "source": [
    "# Przygotowywanie danych do klasyfikacji\n",
    "# Podział danych został wykonany przy pomocy biblioteki sklearn.\n",
    "# Dane zostały podzielone podzielone w nastepujących proporcjach: 30% dane testowe, 70% dane treningowe.\n",
    "# Dane treningowe posłużą do stworzenia modelu, natomiast dane testowe do sprawdzenia jego dokładności. \n",
    "\n",
    "\n",
    "from sklearn.model_selection import train_test_split \n",
    "\n",
    "# Usunięcie z puli cech kolumn quality oraz total sulfur dioxide\n",
    "features = data.drop(['quality'], axis=1) \n",
    "features = data.drop(['total sulfur dioxide'], axis=1) \n",
    "\n",
    "# Wyodrębnienie kolumny quality\n",
    "# Podmiana wartości w kolumnie quality\n",
    "# Wszystkim winom o jakości < 5 została przypisana wartość 0\n",
    "# Wszystkim winom o jakości > 6 została przypisana wartość 1\n",
    "target = data['quality'].apply(lambda y: 1 if y>6 else 0)\n",
    "\n",
    "\n",
    "x_train, x_test, y_train, y_test = train_test_split(features, target, test_size=0.3, random_state=69)\n"
   ]
  },
  {
   "cell_type": "code",
   "execution_count": 132,
   "id": "c96f7be3",
   "metadata": {},
   "outputs": [
    {
     "name": "stdout",
     "output_type": "stream",
     "text": [
      "Prawdziwe wyniki:\n",
      " [1, 0, 0, 1, 0]\n",
      "Wyniki przewidywań:\n",
      " [0 0 0 1 0]\n"
     ]
    }
   ],
   "source": [
    "# biblioteka jest odpowiedzialna za metodę k-Nearest Neighbour\n",
    "from sklearn.neighbors import KNeighborsClassifier \n",
    "\n",
    "# Stworzenie klasyfikatora KNeighborsClassifier\n",
    "knn = KNeighborsClassifier(n_neighbors=1)\n",
    "\n",
    "# Trenowanie modelu\n",
    "train = knn.fit(x_train, y_train)\n",
    "\n",
    "# Przewidywanie wyniku dla zestawu testującego\n",
    "y_prediction = knn.predict(x_test)\n",
    "\n",
    "# Porównanie wyników dla pierwszych 5 rekordów\n",
    "print(\"Prawdziwe wyniki:\\n\", y_test[0:5].tolist())\n",
    "print(\"Wyniki przewidywań:\\n\", knn.predict(X_test[0:5]))\n"
   ]
  },
  {
   "cell_type": "code",
   "execution_count": 133,
   "id": "0175f84e",
   "metadata": {},
   "outputs": [
    {
     "name": "stdout",
     "output_type": "stream",
     "text": [
      "Poprawność metody kNN dla zestawu testowego: 0.952821\n",
      "Poprawność metody kNN  dla zestawu trenigowego: 1.000000\n"
     ]
    }
   ],
   "source": [
    "# Średnia poprawność modelu dla zestawu testowego i treningowego \n",
    "print('Poprawność metody kNN dla zestawu testowego: %f' % train.score(x_test, y_test))\n",
    "print('Poprawność metody kNN  dla zestawu trenigowego: %f' % train.score(x_train, y_train))"
   ]
  },
  {
   "cell_type": "code",
   "execution_count": 138,
   "id": "9ad51b31",
   "metadata": {},
   "outputs": [
    {
     "name": "stdout",
     "output_type": "stream",
     "text": [
      "1\n"
     ]
    },
    {
     "data": {
      "image/png": "[encoded data removed]",
      "text/plain": [
       "<Figure size 864x432 with 1 Axes>"
      ]
     },
     "metadata": {
      "needs_background": "light"
     },
     "output_type": "display_data"
    }
   ],
   "source": [
    "# Szukanie optymalnego K \n",
    "from sklearn.metrics import accuracy_score\n",
    "ac = []\n",
    "for i in range(1, 99):\n",
    "    knn = KNeighborsClassifier(n_neighbors=i)\n",
    "    train = knn.fit(x_train, y_train)\n",
    "    y_pred_i = knn.predict(x_test)\n",
    "    ac.append(accuracy_score(y_test, y_pred_i))\n",
    "\n",
    "plt.figure(figsize=(12, 6))\n",
    "plt.plot(range(1, 99), ac, color='red', linestyle='dashed', marker='o',\n",
    "         markerfacecolor='blue', markersize=10)\n",
    "plt.title('Wykres poprawności do K')\n",
    "plt.xlabel('Wartość K')\n",
    "plt.ylabel('Poprawność')\n",
    "\n",
    "print(\"Optymalne K\", np.argmax(ac) + 1)"
   ]
  },
  {
   "cell_type": "code",
   "execution_count": 135,
   "id": "93bc8d19",
   "metadata": {},
   "outputs": [
    {
     "name": "stdout",
     "output_type": "stream",
     "text": [
      "Poprawność przewidywań:  0.95282\n"
     ]
    }
   ],
   "source": [
    "from sklearn import metrics \n",
    "\n",
    "# Ocena poprawności klasyfkiacji przy pomocy biblioteki sklearn\n",
    "print(\"Poprawność przewidywań: \", round(metrics.accuracy_score(y_test, y_prediction), 5))\n"
   ]
  },
  {
   "cell_type": "code",
   "execution_count": 101,
   "id": "0e143801",
   "metadata": {},
   "outputs": [
    {
     "name": "stdout",
     "output_type": "stream",
     "text": [
      "              precision    recall  f1-score   support\n",
      "\n",
      "           0       0.97      0.97      0.97      1567\n",
      "           1       0.88      0.88      0.88       383\n",
      "\n",
      "    accuracy                           0.95      1950\n",
      "   macro avg       0.92      0.93      0.93      1950\n",
      "weighted avg       0.95      0.95      0.95      1950\n",
      "\n"
     ]
    }
   ],
   "source": [
    "# Raport klasyfikacji\n",
    "print(metrics.classification_report(y_test, y_prediction))"
   ]
  },
  {
   "cell_type": "code",
   "execution_count": 136,
   "id": "40c008c7",
   "metadata": {},
   "outputs": [],
   "source": [
    "\n",
    "# f1-score 0.92, im bliżej 1 tym model jest lepszy \n"
   ]
  },
  {
   "cell_type": "code",
   "execution_count": 137,
   "id": "b779cc2b",
   "metadata": {},
   "outputs": [
    {
     "name": "stdout",
     "output_type": "stream",
     "text": [
      "[[1520   47]\n",
      " [  45  338]]\n"
     ]
    }
   ],
   "source": [
    "# Tablicy pomyłek\n",
    "confusion = metrics.confusion_matrix(y_test, y_prediction)\n",
    "print(confusion)\n",
    "\n",
    "# (True Positive)TP - poprawnie przewidziany wino dobrej jakości\n",
    "# (True Negarive)TN - poprawnie przewidziane wino gorszej jakości\n",
    "# (False Positive)FP - niepoprawnie przewidaine wino dobrej jakości\n",
    "# (False Negative)FN - niepoprawnie przewidane wino gorszej jakości \n",
    "\n",
    "# Przypisanie wartośći do odpowiednich części tablicy\n",
    "TP = confusion[1, 1] # 338\n",
    "TN = confusion[0, 0] # 1520\n",
    "FP = confusion[0, 1] # 47\n",
    "FN = confusion[1, 0] # 45\n",
    "\n"
   ]
  },
  {
   "cell_type": "code",
   "execution_count": 105,
   "id": "5ec21f7b",
   "metadata": {},
   "outputs": [
    {
     "name": "stdout",
     "output_type": "stream",
     "text": [
      "Poprawność 0.95282\n",
      "Błąd 0.04718\n"
     ]
    }
   ],
   "source": [
    "# Obliczanie poprawność klasyfikacji oznaczającą jak często klasyfikator jest poprawny\n",
    "# Obliczenie popranowsci oraz błędu klasyfikacji,obrazujących jak czesto \n",
    "# klasyfikator pokazuje poprawny wynik oraz jak czesto się myli\n",
    "classification_accuracy = (TP + TN) / float(TP + TN + FP + FN)\n",
    "classification_error = (FP + FN) / float(TP + TN + FP + FN)\n",
    "\n",
    "print('Poprawność', round(classification_accuracy, 5))\n",
    "print('Błąd', round(classification_error, 5))"
   ]
  },
  {
   "cell_type": "code",
   "execution_count": null,
   "id": "81d05656",
   "metadata": {},
   "outputs": [],
   "source": []
  },
  {
   "cell_type": "code",
   "execution_count": null,
   "id": "c71e8a01",
   "metadata": {},
   "outputs": [],
   "source": [
    "\n",
    "\n"
   ]
  },
  {
   "cell_type": "code",
   "execution_count": 91,
   "id": "09c8e1c8",
   "metadata": {},
   "outputs": [
    {
     "data": {
      "text/plain": [
       "1"
      ]
     },
     "execution_count": 91,
     "metadata": {},
     "output_type": "execute_result"
    }
   ],
   "source": [
    "\n"
   ]
  },
  {
   "cell_type": "code",
   "execution_count": null,
   "id": "78cf7db0",
   "metadata": {},
   "outputs": [],
   "source": []
  }
 ],
 "metadata": {
  "kernelspec": {
   "display_name": "Python 3 (ipykernel)",
   "language": "python",
   "name": "python3"
  },
  "language_info": {
   "codemirror_mode": {
    "name": "ipython",
    "version": 3
   },
   "file_extension": ".py",
   "mimetype": "text/x-python",
   "name": "python",
   "nbconvert_exporter": "python",
   "pygments_lexer": "ipython3",
   "version": "3.9.7"
  }
 },
 "nbformat": 4,
 "nbformat_minor": 5
}
